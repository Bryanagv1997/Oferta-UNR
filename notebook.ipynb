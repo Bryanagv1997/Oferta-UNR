{
 "cells": [
  {
   "cell_type": "markdown",
   "id": "66b819d4",
   "metadata": {},
   "source": [
    "## Ceación de ofertas para UNR\n",
    "\n",
    "* Inicialmente iniciamos la BD de SFE para hallar el PPP para saber el G de compra de SFE"
   ]
  },
  {
   "cell_type": "code",
   "execution_count": 16,
   "id": "e55110af",
   "metadata": {},
   "outputs": [
    {
     "name": "stderr",
     "output_type": "stream",
     "text": [
      "/Users/penguinblack97/scripts/UNR/db_utils.py:25: UserWarning: pandas only supports SQLAlchemy connectable (engine/connection) or database string URI or sqlite3 DBAPI2 connection. Other DBAPI2 objects are not tested. Please consider using SQLAlchemy.\n",
      "  df = pd.read_sql(query, conn)\n"
     ]
    },
    {
     "data": {
      "application/vnd.microsoft.datawrangler.viewer.v0+json": {
       "columns": [
        {
         "name": "index",
         "rawType": "int64",
         "type": "integer"
        },
        {
         "name": "contrato",
         "rawType": "object",
         "type": "string"
        },
        {
         "name": "periodo",
         "rawType": "datetime64[ns]",
         "type": "datetime"
        },
        {
         "name": "tarifa",
         "rawType": "float64",
         "type": "float"
        },
        {
         "name": "tarifa_indexada",
         "rawType": "float64",
         "type": "float"
        },
        {
         "name": "GWh",
         "rawType": "float64",
         "type": "float"
        },
        {
         "name": "Nombre",
         "rawType": "object",
         "type": "string"
        },
        {
         "name": "Tipo",
         "rawType": "object",
         "type": "string"
        }
       ],
       "ref": "d82168c2-e100-4269-b27b-f14f97a7b8df",
       "rows": [
        [
         "0",
         "C86125",
         "2025-01-01 00:00:00",
         "300.0",
         "310.11",
         "0.258",
         "URRAO",
         "Compra"
        ],
        [
         "1",
         "C79905",
         "2025-01-01 00:00:00",
         "410.0",
         "429.03",
         "0.2",
         "TERPEL",
         "Venta"
        ],
        [
         "2",
         "C78232",
         "2025-01-01 00:00:00",
         "410.0",
         "429.03",
         "0.48",
         "TERPEL",
         "Venta"
        ],
        [
         "3",
         "C78228",
         "2025-01-01 00:00:00",
         "410.0",
         "429.03",
         "0.5",
         "TERPEL",
         "Venta"
        ],
        [
         "4",
         "C78924",
         "2025-01-01 00:00:00",
         "306.0",
         "325.21",
         "0.375",
         "NOVA",
         "Compra"
        ]
       ],
       "shape": {
        "columns": 7,
        "rows": 5
       }
      },
      "text/html": [
       "<div>\n",
       "<style scoped>\n",
       "    .dataframe tbody tr th:only-of-type {\n",
       "        vertical-align: middle;\n",
       "    }\n",
       "\n",
       "    .dataframe tbody tr th {\n",
       "        vertical-align: top;\n",
       "    }\n",
       "\n",
       "    .dataframe thead th {\n",
       "        text-align: right;\n",
       "    }\n",
       "</style>\n",
       "<table border=\"1\" class=\"dataframe\">\n",
       "  <thead>\n",
       "    <tr style=\"text-align: right;\">\n",
       "      <th></th>\n",
       "      <th>contrato</th>\n",
       "      <th>periodo</th>\n",
       "      <th>tarifa</th>\n",
       "      <th>tarifa_indexada</th>\n",
       "      <th>GWh</th>\n",
       "      <th>Nombre</th>\n",
       "      <th>Tipo</th>\n",
       "    </tr>\n",
       "  </thead>\n",
       "  <tbody>\n",
       "    <tr>\n",
       "      <th>0</th>\n",
       "      <td>C86125</td>\n",
       "      <td>2025-01-01</td>\n",
       "      <td>300.0</td>\n",
       "      <td>310.11</td>\n",
       "      <td>0.258</td>\n",
       "      <td>URRAO</td>\n",
       "      <td>Compra</td>\n",
       "    </tr>\n",
       "    <tr>\n",
       "      <th>1</th>\n",
       "      <td>C79905</td>\n",
       "      <td>2025-01-01</td>\n",
       "      <td>410.0</td>\n",
       "      <td>429.03</td>\n",
       "      <td>0.200</td>\n",
       "      <td>TERPEL</td>\n",
       "      <td>Venta</td>\n",
       "    </tr>\n",
       "    <tr>\n",
       "      <th>2</th>\n",
       "      <td>C78232</td>\n",
       "      <td>2025-01-01</td>\n",
       "      <td>410.0</td>\n",
       "      <td>429.03</td>\n",
       "      <td>0.480</td>\n",
       "      <td>TERPEL</td>\n",
       "      <td>Venta</td>\n",
       "    </tr>\n",
       "    <tr>\n",
       "      <th>3</th>\n",
       "      <td>C78228</td>\n",
       "      <td>2025-01-01</td>\n",
       "      <td>410.0</td>\n",
       "      <td>429.03</td>\n",
       "      <td>0.500</td>\n",
       "      <td>TERPEL</td>\n",
       "      <td>Venta</td>\n",
       "    </tr>\n",
       "    <tr>\n",
       "      <th>4</th>\n",
       "      <td>C78924</td>\n",
       "      <td>2025-01-01</td>\n",
       "      <td>306.0</td>\n",
       "      <td>325.21</td>\n",
       "      <td>0.375</td>\n",
       "      <td>NOVA</td>\n",
       "      <td>Compra</td>\n",
       "    </tr>\n",
       "  </tbody>\n",
       "</table>\n",
       "</div>"
      ],
      "text/plain": [
       "  contrato    periodo  tarifa  tarifa_indexada    GWh  Nombre    Tipo\n",
       "0   C86125 2025-01-01   300.0           310.11  0.258   URRAO  Compra\n",
       "1   C79905 2025-01-01   410.0           429.03  0.200  TERPEL   Venta\n",
       "2   C78232 2025-01-01   410.0           429.03  0.480  TERPEL   Venta\n",
       "3   C78228 2025-01-01   410.0           429.03  0.500  TERPEL   Venta\n",
       "4   C78924 2025-01-01   306.0           325.21  0.375    NOVA  Compra"
      ]
     },
     "execution_count": 16,
     "metadata": {},
     "output_type": "execute_result"
    }
   ],
   "source": [
    "from db_utils import fetch_general_table\n",
    "\n",
    "df = fetch_general_table()\n",
    "df.head()"
   ]
  },
  {
   "cell_type": "code",
   "execution_count": 17,
   "id": "14ff80aa",
   "metadata": {},
   "outputs": [
    {
     "name": "stderr",
     "output_type": "stream",
     "text": [
      "/var/folders/yv/ddlrydjn4vb1xqknnq1zlzq00000gn/T/ipykernel_5093/3300605479.py:4: SettingWithCopyWarning: \n",
      "A value is trying to be set on a copy of a slice from a DataFrame.\n",
      "Try using .loc[row_indexer,col_indexer] = value instead\n",
      "\n",
      "See the caveats in the documentation: https://pandas.pydata.org/pandas-docs/stable/user_guide/indexing.html#returning-a-view-versus-a-copy\n",
      "  df_filtrado['año'] = df_filtrado['periodo'].dt.year\n",
      "/var/folders/yv/ddlrydjn4vb1xqknnq1zlzq00000gn/T/ipykernel_5093/3300605479.py:7: FutureWarning: DataFrameGroupBy.apply operated on the grouping columns. This behavior is deprecated, and in a future version of pandas the grouping columns will be excluded from the operation. Either pass `include_groups=False` to exclude the groupings or explicitly select the grouping columns after groupby to silence this warning.\n",
      "  .apply(lambda x: round((x['GWh'] * x['tarifa']).sum() / x['GWh'].sum(),2))\n"
     ]
    },
    {
     "data": {
      "application/vnd.microsoft.datawrangler.viewer.v0+json": {
       "columns": [
        {
         "name": "index",
         "rawType": "int64",
         "type": "integer"
        },
        {
         "name": "año",
         "rawType": "int32",
         "type": "integer"
        },
        {
         "name": "PPP",
         "rawType": "float64",
         "type": "float"
        }
       ],
       "ref": "46984168-dd0e-4ad7-8409-5bbedabf0934",
       "rows": [
        [
         "0",
         "2025",
         "331.65"
        ],
        [
         "1",
         "2026",
         "324.97"
        ],
        [
         "2",
         "2027",
         "322.84"
        ],
        [
         "3",
         "2028",
         "320.13"
        ],
        [
         "4",
         "2029",
         "315.9"
        ],
        [
         "5",
         "2030",
         "312.44"
        ],
        [
         "6",
         "2031",
         "309.11"
        ],
        [
         "7",
         "2032",
         "307.62"
        ],
        [
         "8",
         "2033",
         "305.83"
        ],
        [
         "9",
         "2034",
         "301.86"
        ],
        [
         "10",
         "2035",
         "301.86"
        ]
       ],
       "shape": {
        "columns": 2,
        "rows": 11
       }
      },
      "text/html": [
       "<div>\n",
       "<style scoped>\n",
       "    .dataframe tbody tr th:only-of-type {\n",
       "        vertical-align: middle;\n",
       "    }\n",
       "\n",
       "    .dataframe tbody tr th {\n",
       "        vertical-align: top;\n",
       "    }\n",
       "\n",
       "    .dataframe thead th {\n",
       "        text-align: right;\n",
       "    }\n",
       "</style>\n",
       "<table border=\"1\" class=\"dataframe\">\n",
       "  <thead>\n",
       "    <tr style=\"text-align: right;\">\n",
       "      <th></th>\n",
       "      <th>año</th>\n",
       "      <th>PPP</th>\n",
       "    </tr>\n",
       "  </thead>\n",
       "  <tbody>\n",
       "    <tr>\n",
       "      <th>0</th>\n",
       "      <td>2025</td>\n",
       "      <td>331.65</td>\n",
       "    </tr>\n",
       "    <tr>\n",
       "      <th>1</th>\n",
       "      <td>2026</td>\n",
       "      <td>324.97</td>\n",
       "    </tr>\n",
       "    <tr>\n",
       "      <th>2</th>\n",
       "      <td>2027</td>\n",
       "      <td>322.84</td>\n",
       "    </tr>\n",
       "    <tr>\n",
       "      <th>3</th>\n",
       "      <td>2028</td>\n",
       "      <td>320.13</td>\n",
       "    </tr>\n",
       "    <tr>\n",
       "      <th>4</th>\n",
       "      <td>2029</td>\n",
       "      <td>315.90</td>\n",
       "    </tr>\n",
       "    <tr>\n",
       "      <th>5</th>\n",
       "      <td>2030</td>\n",
       "      <td>312.44</td>\n",
       "    </tr>\n",
       "    <tr>\n",
       "      <th>6</th>\n",
       "      <td>2031</td>\n",
       "      <td>309.11</td>\n",
       "    </tr>\n",
       "    <tr>\n",
       "      <th>7</th>\n",
       "      <td>2032</td>\n",
       "      <td>307.62</td>\n",
       "    </tr>\n",
       "    <tr>\n",
       "      <th>8</th>\n",
       "      <td>2033</td>\n",
       "      <td>305.83</td>\n",
       "    </tr>\n",
       "    <tr>\n",
       "      <th>9</th>\n",
       "      <td>2034</td>\n",
       "      <td>301.86</td>\n",
       "    </tr>\n",
       "    <tr>\n",
       "      <th>10</th>\n",
       "      <td>2035</td>\n",
       "      <td>301.86</td>\n",
       "    </tr>\n",
       "  </tbody>\n",
       "</table>\n",
       "</div>"
      ],
      "text/plain": [
       "     año     PPP\n",
       "0   2025  331.65\n",
       "1   2026  324.97\n",
       "2   2027  322.84\n",
       "3   2028  320.13\n",
       "4   2029  315.90\n",
       "5   2030  312.44\n",
       "6   2031  309.11\n",
       "7   2032  307.62\n",
       "8   2033  305.83\n",
       "9   2034  301.86\n",
       "10  2035  301.86"
      ]
     },
     "execution_count": 17,
     "metadata": {},
     "output_type": "execute_result"
    }
   ],
   "source": [
    "## Averiguo primero los valores de lo que se tiene contratado\n",
    "import pandas as pd\n",
    "df_filtrado = df[df[\"Tipo\"] == \"Compra\"]\n",
    "df_filtrado['año'] = df_filtrado['periodo'].dt.year\n",
    "promedio_ponderado = (\n",
    "    df_filtrado.groupby('año')\n",
    "    .apply(lambda x: round((x['GWh'] * x['tarifa']).sum() / x['GWh'].sum(),2))\n",
    "    .reset_index(name='PPP')\n",
    ")\n",
    "promedio_ponderado"
   ]
  },
  {
   "cell_type": "markdown",
   "id": "d5c86522",
   "metadata": {},
   "source": [
    "#### Analisis de la curva de cliente \n",
    "\n",
    "* Teniendo en cuenta la curva tipica del cliente se halla el coeficiente de variación y relativo con reglas del 30%"
   ]
  },
  {
   "cell_type": "code",
   "execution_count": 18,
   "id": "5a1c1074",
   "metadata": {},
   "outputs": [],
   "source": [
    "df_demanda = pd.read_csv(\"matriz_unr.csv\")"
   ]
  },
  {
   "cell_type": "code",
   "execution_count": 19,
   "id": "47454a21",
   "metadata": {},
   "outputs": [
    {
     "name": "stdout",
     "output_type": "stream",
     "text": [
      "Promedio (kWh): 705.83\n",
      "Desviación estándar (kWh): 187.82\n",
      "Máximo (kWh): 940\n",
      "Mínimo (kWh): 400\n"
     ]
    }
   ],
   "source": [
    "media = df_demanda['Consumo_kWh'].mean()\n",
    "desviacion = df_demanda['Consumo_kWh'].std()\n",
    "maximo = df_demanda['Consumo_kWh'].max()\n",
    "minimo = df_demanda['Consumo_kWh'].min()\n",
    "\n",
    "print(f\"Promedio (kWh): {round(media, 2)}\")\n",
    "print(f\"Desviación estándar (kWh): {round(desviacion, 2)}\")\n",
    "print(f\"Máximo (kWh): {maximo}\")\n",
    "print(f\"Mínimo (kWh): {minimo}\")"
   ]
  },
  {
   "cell_type": "code",
   "execution_count": 20,
   "id": "27f21a43",
   "metadata": {},
   "outputs": [
    {
     "name": "stdout",
     "output_type": "stream",
     "text": [
      "Coeficiente de variación (%): 0.27\n",
      "Coeficiente relativo: 0.77\n"
     ]
    }
   ],
   "source": [
    "cv = desviacion/media\n",
    "print(f\"Coeficiente de variación (%): {round(cv, 2)}\")\n",
    "cr = (maximo - minimo)/media\n",
    "print(f\"Coeficiente relativo: {round(cr, 2)}\")"
   ]
  },
  {
   "cell_type": "code",
   "execution_count": 21,
   "id": "2f6b0c17",
   "metadata": {},
   "outputs": [],
   "source": [
    "#### Hallo el perfil que tiene mi usuario\n",
    "def clasificar_perfil(cv, cr):\n",
    "    \"\"\"\n",
    "    Clasifica el tipo de curva energética según el Coeficiente de Variación (cv)\n",
    "    y el Coeficiente Relativo (cr).\n",
    "\n",
    "    Reglas:\n",
    "    - Si CV y CR son 0 → 'Plano'\n",
    "    - Si uno de los dos es menor a 0.3 → 'Piso'\n",
    "    - Si ambos son mayores a 0.3 → 'Techo'\n",
    "    \"\"\"\n",
    "    if cv == 0 and cr == 0:\n",
    "        return \"Plano\"\n",
    "    elif cv < 0.3 or cr < 0.3:\n",
    "        return \"Piso\"\n",
    "    elif cv > 0.3 and cr > 0.3:\n",
    "        return \"Techo\"\n",
    "    else:\n",
    "        return \"Indefinido\"\n",
    "#### Los años que yo quiero que mi usuario se contrate\n",
    "def filtrar_periodo_contrato(df, año_inicial, duracion_contrato):\n",
    "    año_final = año_inicial + duracion_contrato - 1\n",
    "    df.rename(columns={\"PPP\": \"PPP G base\"},inplace=True)\n",
    "    df_filtrado = df[(df['año'] >= año_inicial) & (df['año'] <= año_final)]\n",
    "    return df_filtrado\n"
   ]
  },
  {
   "cell_type": "markdown",
   "id": "76e62fdb",
   "metadata": {},
   "source": [
    "### Creación de oferta y descuento por fidelidad - volumen"
   ]
  },
  {
   "cell_type": "code",
   "execution_count": 22,
   "id": "73c52399",
   "metadata": {},
   "outputs": [
    {
     "data": {
      "application/vnd.microsoft.datawrangler.viewer.v0+json": {
       "columns": [
        {
         "name": "index",
         "rawType": "int64",
         "type": "integer"
        },
        {
         "name": "año",
         "rawType": "int32",
         "type": "integer"
        },
        {
         "name": "PPP G base",
         "rawType": "float64",
         "type": "float"
        }
       ],
       "ref": "b6e4bf39-073f-4433-bb05-e7428a159820",
       "rows": [
        [
         "1",
         "2026",
         "324.97"
        ],
        [
         "2",
         "2027",
         "322.84"
        ],
        [
         "3",
         "2028",
         "320.13"
        ],
        [
         "4",
         "2029",
         "315.9"
        ]
       ],
       "shape": {
        "columns": 2,
        "rows": 4
       }
      },
      "text/html": [
       "<div>\n",
       "<style scoped>\n",
       "    .dataframe tbody tr th:only-of-type {\n",
       "        vertical-align: middle;\n",
       "    }\n",
       "\n",
       "    .dataframe tbody tr th {\n",
       "        vertical-align: top;\n",
       "    }\n",
       "\n",
       "    .dataframe thead th {\n",
       "        text-align: right;\n",
       "    }\n",
       "</style>\n",
       "<table border=\"1\" class=\"dataframe\">\n",
       "  <thead>\n",
       "    <tr style=\"text-align: right;\">\n",
       "      <th></th>\n",
       "      <th>año</th>\n",
       "      <th>PPP G base</th>\n",
       "    </tr>\n",
       "  </thead>\n",
       "  <tbody>\n",
       "    <tr>\n",
       "      <th>1</th>\n",
       "      <td>2026</td>\n",
       "      <td>324.97</td>\n",
       "    </tr>\n",
       "    <tr>\n",
       "      <th>2</th>\n",
       "      <td>2027</td>\n",
       "      <td>322.84</td>\n",
       "    </tr>\n",
       "    <tr>\n",
       "      <th>3</th>\n",
       "      <td>2028</td>\n",
       "      <td>320.13</td>\n",
       "    </tr>\n",
       "    <tr>\n",
       "      <th>4</th>\n",
       "      <td>2029</td>\n",
       "      <td>315.90</td>\n",
       "    </tr>\n",
       "  </tbody>\n",
       "</table>\n",
       "</div>"
      ],
      "text/plain": [
       "    año  PPP G base\n",
       "1  2026      324.97\n",
       "2  2027      322.84\n",
       "3  2028      320.13\n",
       "4  2029      315.90"
      ]
     },
     "execution_count": 22,
     "metadata": {},
     "output_type": "execute_result"
    }
   ],
   "source": [
    "### Año de inicio de contrato 2025 y 5 años de contrato\n",
    "duracion = 4\n",
    "año = 2026\n",
    "##########################################################################################\n",
    "df_base = filtrar_periodo_contrato(promedio_ponderado, año, duracion)\n",
    "df_base"
   ]
  },
  {
   "cell_type": "code",
   "execution_count": 23,
   "id": "d86c31b0",
   "metadata": {},
   "outputs": [],
   "source": [
    "#### Hallo los AOM actuales de SFEC\n",
    "def agregar_columna_ipc(df, ipc_base=0.0482, incremento_extra=0.05, valor_inicial=290, nombre_columna=\"Gastos SFEC\"):\n",
    "    \"\"\"\n",
    "    Agrega una columna al DataFrame que aumenta cada año según IPC + incremento adicional para los gastos de SFEC.\n",
    "\n",
    "    Parámetros:\n",
    "    - df: DataFrame con columna 'año'\n",
    "    - ipc_base: IPC anual estimado (ej: 0.0482 para 4.82%)\n",
    "    - incremento_extra: Porcentaje adicional (ej: 0.05 para 5%)\n",
    "    - valor_inicial: Valor base para el primer año\n",
    "    - nombre_columna: Nombre de la nueva columna\n",
    "\n",
    "    Retorna:\n",
    "    - DataFrame con la nueva columna agregada\n",
    "    \"\"\"\n",
    "    tasa_total = ipc_base + incremento_extra\n",
    "    años = df['año'].sort_values().unique()\n",
    "    ### Se le suma (2) dos pesos para tener un valor agregado de costos SIC y CND \n",
    "    valores = {año: round((valor_inicial) * ((1 + tasa_total) ** i), 2) for i, año in enumerate(años)}\n",
    "    df[nombre_columna] = df['año'].map(valores)\n",
    "    df['AOM+SIC'] = round(df[nombre_columna]*12/df['GWh'],2)+2\n",
    "    return df\n",
    "gastos=agregar_columna_ipc(df_filtrado.groupby(\"año\")[['GWh']].sum().reset_index())"
   ]
  },
  {
   "cell_type": "code",
   "execution_count": 24,
   "id": "ecc8f51f",
   "metadata": {},
   "outputs": [
    {
     "name": "stderr",
     "output_type": "stream",
     "text": [
      "/var/folders/yv/ddlrydjn4vb1xqknnq1zlzq00000gn/T/ipykernel_5093/2044428553.py:5: SettingWithCopyWarning: \n",
      "A value is trying to be set on a copy of a slice from a DataFrame.\n",
      "Try using .loc[row_indexer,col_indexer] = value instead\n",
      "\n",
      "See the caveats in the documentation: https://pandas.pydata.org/pandas-docs/stable/user_guide/indexing.html#returning-a-view-versus-a-copy\n",
      "  df_G [\"PPP G compra\"]=round(df_G[\"PPP G base\"] + df_G[\"AOM+SIC\"],2)\n"
     ]
    }
   ],
   "source": [
    "df_unido = pd.merge(df_base, gastos, on='año', how='inner')\n",
    "\n",
    "columnas_deseadas = ['año', 'PPP G base', 'AOM+SIC']\n",
    "df_G = df_unido[columnas_deseadas]\n",
    "df_G [\"PPP G compra\"]=round(df_G[\"PPP G base\"] + df_G[\"AOM+SIC\"],2)"
   ]
  },
  {
   "cell_type": "code",
   "execution_count": 25,
   "id": "096ec045",
   "metadata": {},
   "outputs": [
    {
     "name": "stdout",
     "output_type": "stream",
     "text": [
      "Tipo de curva Piso\n",
      "    año  PPP G base  AOM+SIC  PPP G compra  PPP G venta\n",
      "0  2026      324.97    22.41        347.38       382.12\n",
      "1  2027      322.84    17.00        339.84       373.82\n",
      "2  2028      320.13    18.48        338.61       372.47\n",
      "3  2029      315.90    19.69        335.59       369.15\n"
     ]
    }
   ],
   "source": [
    "def aplicar_ajuste(df, columna_valores, tipo_curva):\n",
    "    \"\"\"\n",
    "    Aplica ajustes económicos sobre la columna seleccionada según el tipo de curva.\n",
    "\n",
    "    Reglas:\n",
    "    - Si tipo_curva es 'Piso': se aplica 10% de ganancia → valor * 1.10\n",
    "    - Si es 'Plano': se descuenta 1% sobre el resultado que tendría 'Piso' → valor * 1.10 * 0.99\n",
    "    - Si es 'Techo': se incrementa 1% sobre el resultado que tendría 'Piso' → valor * 1.10 * 1.01\n",
    "\n",
    "    Parámetros:\n",
    "    - df: DataFrame que contiene la columna de valores\n",
    "    - columna_valores: str, nombre de la columna a ajustar\n",
    "    - tipo_curva: str, puede ser 'Piso', 'Plano' o 'Techo'\n",
    "\n",
    "    Retorna:\n",
    "    - DataFrame con una nueva columna 'Ajuste económico'\n",
    "    \"\"\"\n",
    "\n",
    "    # Valor base ajustado por tipo\n",
    "    if tipo_curva == \"Piso\":\n",
    "        factor = 1.10\n",
    "    elif tipo_curva == \"Plano\":\n",
    "        factor = 1.10 * 0.99  # descuento del 1% sobre el piso\n",
    "    elif tipo_curva == \"Techo\":\n",
    "        factor = 1.10 * 1.01  # recargo del 1% sobre el piso\n",
    "    else:\n",
    "        raise ValueError(\"Tipo de curva inválido. Usa 'Piso', 'Plano' o 'Techo'.\")\n",
    "\n",
    "    # Aplicar el ajuste a la columna\n",
    "    df[\"PPP G venta\"] = round(df[columna_valores] * factor,2)\n",
    "\n",
    "    return df\n",
    "df_ajustado = aplicar_ajuste(df_G, \"PPP G compra\", tipo_curva=clasificar_perfil(cv, cr))\n",
    "print(\"Tipo de curva\",clasificar_perfil(cv,cr))\n",
    "print(df_ajustado.head())\n"
   ]
  },
  {
   "cell_type": "code",
   "execution_count": 26,
   "id": "655b14fa",
   "metadata": {},
   "outputs": [],
   "source": [
    "import pandas as pd\n",
    "\n",
    "def generar_tasas_fidelidad_volumen(años=range(3, 11), volumenes=[55, 110, 220, 440, 880], tasa_fidelidad_base=0.0015, tasa_volumen_base=0.0010):\n",
    "    \"\"\"\n",
    "    Crea un DataFrame con tasas de fidelidad y volumen que crecen proporcionalmente.\n",
    "\n",
    "    - Fidelidad: de 0% en año 3 y voy creciendo de 0.15% por año.\n",
    "    - Volumen: se duplica por cada rango, empezando en 0% para el primer.\n",
    "\n",
    "    Retorna:\n",
    "    - DataFrame con columnas: 'Año', 'Tasa Fidelidad (%)', 'Rango Volumen', 'Tasa Volumen (%)'\n",
    "    \"\"\"\n",
    "    filas = []\n",
    "    años_lista = list(años)\n",
    "    total_periodos = len(años_lista) - 1  # 7 para años 3–10\n",
    "\n",
    "    for i, año in enumerate(años_lista):\n",
    "        tasa_fidelidad = round((i ) * tasa_fidelidad_base, 5) if i > 0 else 0\n",
    "\n",
    "        for j, vol_min in enumerate(volumenes):\n",
    "            vol_max = volumenes[j + 1] if j + 1 < len(volumenes) else \"∞\"\n",
    "            rango = f\"{vol_min}-{vol_max}\" if vol_max != \"∞\" else f\">{vol_min}\"\n",
    "            tasa_volumen = round(tasa_volumen_base * (j) if j > 0 else 0, 5)\n",
    "\n",
    "            filas.append({\n",
    "                \"Año\": año,\n",
    "                \"Tasa Fidelidad (%)\": round(tasa_fidelidad * 100, 2),\n",
    "                \"Rango Volumen\": rango,\n",
    "                \"Tasa Volumen (%)\": round(tasa_volumen * 100, 2)\n",
    "            })\n",
    "\n",
    "    return pd.DataFrame(filas)\n",
    "df_tasas = generar_tasas_fidelidad_volumen()"
   ]
  },
  {
   "cell_type": "code",
   "execution_count": 27,
   "id": "eb78d95f",
   "metadata": {},
   "outputs": [],
   "source": [
    "df_tasas[\"Tasa Total (%)\"] = round(df_tasas[\"Tasa Fidelidad (%)\"] + df_tasas[\"Tasa Volumen (%)\"],2)"
   ]
  },
  {
   "cell_type": "code",
   "execution_count": 28,
   "id": "7d2dcadc",
   "metadata": {},
   "outputs": [
    {
     "name": "stdout",
     "output_type": "stream",
     "text": [
      "Tasa de descuento por fidelidad y volumen de contrato\n",
      "   Año  Tasa Fidelidad (%) Rango Volumen  Tasa Volumen (%)  Tasa Total (%)\n",
      "7    4                0.15       220-440               0.2            0.35\n"
     ]
    }
   ],
   "source": [
    "fila_seleccionada = df_tasas[(df_tasas[\"Año\"] == duracion) & (df_tasas[\"Rango Volumen\"] == \"220-440\")]\n",
    "print(\"Tasa de descuento por fidelidad y volumen de contrato\")\n",
    "print(fila_seleccionada)\n",
    "df_ajustado[\"Tasa de descuento (%)\"]=fila_seleccionada[\"Tasa Total (%)\"].values[0]"
   ]
  },
  {
   "cell_type": "code",
   "execution_count": 29,
   "id": "fb7b827a",
   "metadata": {},
   "outputs": [],
   "source": [
    "df_ajustado[\"PPP G venta con descuento\"] =round((100-df_ajustado['Tasa de descuento (%)'])*df_ajustado['PPP G venta']/100,2)"
   ]
  },
  {
   "cell_type": "code",
   "execution_count": 30,
   "id": "05bd49ac",
   "metadata": {},
   "outputs": [
    {
     "data": {
      "application/vnd.microsoft.datawrangler.viewer.v0+json": {
       "columns": [
        {
         "name": "index",
         "rawType": "int64",
         "type": "integer"
        },
        {
         "name": "año",
         "rawType": "int32",
         "type": "integer"
        },
        {
         "name": "PPP G base",
         "rawType": "float64",
         "type": "float"
        },
        {
         "name": "AOM+SIC",
         "rawType": "float64",
         "type": "float"
        },
        {
         "name": "PPP G compra",
         "rawType": "float64",
         "type": "float"
        },
        {
         "name": "PPP G venta",
         "rawType": "float64",
         "type": "float"
        },
        {
         "name": "Tasa de descuento (%)",
         "rawType": "float64",
         "type": "float"
        },
        {
         "name": "PPP G venta con descuento",
         "rawType": "float64",
         "type": "float"
        }
       ],
       "ref": "db7d8d23-29ef-492a-9d4e-782b2fb9df76",
       "rows": [
        [
         "0",
         "2026",
         "324.97",
         "22.41",
         "347.38",
         "382.12",
         "0.35",
         "380.78"
        ],
        [
         "1",
         "2027",
         "322.84",
         "17.0",
         "339.84",
         "373.82",
         "0.35",
         "372.51"
        ],
        [
         "2",
         "2028",
         "320.13",
         "18.48",
         "338.61",
         "372.47",
         "0.35",
         "371.17"
        ],
        [
         "3",
         "2029",
         "315.9",
         "19.69",
         "335.59",
         "369.15",
         "0.35",
         "367.86"
        ]
       ],
       "shape": {
        "columns": 7,
        "rows": 4
       }
      },
      "text/html": [
       "<div>\n",
       "<style scoped>\n",
       "    .dataframe tbody tr th:only-of-type {\n",
       "        vertical-align: middle;\n",
       "    }\n",
       "\n",
       "    .dataframe tbody tr th {\n",
       "        vertical-align: top;\n",
       "    }\n",
       "\n",
       "    .dataframe thead th {\n",
       "        text-align: right;\n",
       "    }\n",
       "</style>\n",
       "<table border=\"1\" class=\"dataframe\">\n",
       "  <thead>\n",
       "    <tr style=\"text-align: right;\">\n",
       "      <th></th>\n",
       "      <th>año</th>\n",
       "      <th>PPP G base</th>\n",
       "      <th>AOM+SIC</th>\n",
       "      <th>PPP G compra</th>\n",
       "      <th>PPP G venta</th>\n",
       "      <th>Tasa de descuento (%)</th>\n",
       "      <th>PPP G venta con descuento</th>\n",
       "    </tr>\n",
       "  </thead>\n",
       "  <tbody>\n",
       "    <tr>\n",
       "      <th>0</th>\n",
       "      <td>2026</td>\n",
       "      <td>324.97</td>\n",
       "      <td>22.41</td>\n",
       "      <td>347.38</td>\n",
       "      <td>382.12</td>\n",
       "      <td>0.35</td>\n",
       "      <td>380.78</td>\n",
       "    </tr>\n",
       "    <tr>\n",
       "      <th>1</th>\n",
       "      <td>2027</td>\n",
       "      <td>322.84</td>\n",
       "      <td>17.00</td>\n",
       "      <td>339.84</td>\n",
       "      <td>373.82</td>\n",
       "      <td>0.35</td>\n",
       "      <td>372.51</td>\n",
       "    </tr>\n",
       "    <tr>\n",
       "      <th>2</th>\n",
       "      <td>2028</td>\n",
       "      <td>320.13</td>\n",
       "      <td>18.48</td>\n",
       "      <td>338.61</td>\n",
       "      <td>372.47</td>\n",
       "      <td>0.35</td>\n",
       "      <td>371.17</td>\n",
       "    </tr>\n",
       "    <tr>\n",
       "      <th>3</th>\n",
       "      <td>2029</td>\n",
       "      <td>315.90</td>\n",
       "      <td>19.69</td>\n",
       "      <td>335.59</td>\n",
       "      <td>369.15</td>\n",
       "      <td>0.35</td>\n",
       "      <td>367.86</td>\n",
       "    </tr>\n",
       "  </tbody>\n",
       "</table>\n",
       "</div>"
      ],
      "text/plain": [
       "    año  PPP G base  AOM+SIC  PPP G compra  PPP G venta  \\\n",
       "0  2026      324.97    22.41        347.38       382.12   \n",
       "1  2027      322.84    17.00        339.84       373.82   \n",
       "2  2028      320.13    18.48        338.61       372.47   \n",
       "3  2029      315.90    19.69        335.59       369.15   \n",
       "\n",
       "   Tasa de descuento (%)  PPP G venta con descuento  \n",
       "0                   0.35                     380.78  \n",
       "1                   0.35                     372.51  \n",
       "2                   0.35                     371.17  \n",
       "3                   0.35                     367.86  "
      ]
     },
     "execution_count": 30,
     "metadata": {},
     "output_type": "execute_result"
    }
   ],
   "source": [
    "df_ajustado"
   ]
  }
 ],
 "metadata": {
  "kernelspec": {
   "display_name": "venv",
   "language": "python",
   "name": "python3"
  },
  "language_info": {
   "codemirror_mode": {
    "name": "ipython",
    "version": 3
   },
   "file_extension": ".py",
   "mimetype": "text/x-python",
   "name": "python",
   "nbconvert_exporter": "python",
   "pygments_lexer": "ipython3",
   "version": "3.13.0"
  }
 },
 "nbformat": 4,
 "nbformat_minor": 5
}
